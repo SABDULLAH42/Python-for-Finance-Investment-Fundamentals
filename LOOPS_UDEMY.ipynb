{
 "cells": [
  {
   "cell_type": "code",
   "execution_count": 1,
   "id": "09486ea7",
   "metadata": {},
   "outputs": [
    {
     "name": "stdout",
     "output_type": "stream",
     "text": [
      "0 2 4 6 8 10 12 14 16 18 20 "
     ]
    }
   ],
   "source": [
    "x = 0\n",
    "while x<=20:\n",
    "    print(x, end=\" \")\n",
    "    x = x + 2"
   ]
  },
  {
   "cell_type": "code",
   "execution_count": 2,
   "id": "dcd38adb",
   "metadata": {},
   "outputs": [
    {
     "data": {
      "text/plain": [
       "[0, 1, 2, 3, 4, 5, 6, 7, 8, 9]"
      ]
     },
     "execution_count": 2,
     "metadata": {},
     "output_type": "execute_result"
    }
   ],
   "source": [
    "list(range(10))"
   ]
  },
  {
   "cell_type": "code",
   "execution_count": 3,
   "id": "edaaa7b1",
   "metadata": {},
   "outputs": [
    {
     "data": {
      "text/plain": [
       "range(1, 20, 2)"
      ]
     },
     "execution_count": 3,
     "metadata": {},
     "output_type": "execute_result"
    }
   ],
   "source": [
    "range(1,20,2)"
   ]
  },
  {
   "cell_type": "code",
   "execution_count": 4,
   "id": "260b5772",
   "metadata": {},
   "outputs": [
    {
     "data": {
      "text/plain": [
       "[1, 3, 5, 7, 9, 11, 13, 15, 17, 19]"
      ]
     },
     "execution_count": 4,
     "metadata": {},
     "output_type": "execute_result"
    }
   ],
   "source": [
    "list(range(1,20,2))"
   ]
  },
  {
   "cell_type": "code",
   "execution_count": 5,
   "id": "2c80b908",
   "metadata": {},
   "outputs": [
    {
     "name": "stdout",
     "output_type": "stream",
     "text": [
      "1\n",
      "2\n",
      "3\n",
      "4\n",
      "5\n",
      "6\n",
      "7\n",
      "8\n",
      "9\n"
     ]
    }
   ],
   "source": [
    "for i in range(1,10):\n",
    "    print(i)"
   ]
  },
  {
   "cell_type": "code",
   "execution_count": 6,
   "id": "0f92e812",
   "metadata": {},
   "outputs": [
    {
     "data": {
      "text/plain": [
       "[0, 1, 2, 3, 4, 5, 6, 7, 8, 9, 10, 11, 12, 13, 14, 15, 16, 17, 18]"
      ]
     },
     "execution_count": 6,
     "metadata": {},
     "output_type": "execute_result"
    }
   ],
   "source": [
    "list(range(0,19,1))"
   ]
  },
  {
   "cell_type": "code",
   "execution_count": 7,
   "id": "6aaba801",
   "metadata": {},
   "outputs": [
    {
     "name": "stdout",
     "output_type": "stream",
     "text": [
      "1 2 4 8 16 32 64 128 256 512 "
     ]
    }
   ],
   "source": [
    "for n in range(10):\n",
    "    print(2**n, end =\" \")"
   ]
  },
  {
   "cell_type": "code",
   "execution_count": 8,
   "id": "fd70e976",
   "metadata": {},
   "outputs": [
    {
     "name": "stdout",
     "output_type": "stream",
     "text": [
      "0 Odd 2 Odd 4 Odd 6 Odd 8 Odd 10 Odd 12 Odd 14 Odd 16 Odd 18 Odd "
     ]
    }
   ],
   "source": [
    "for x in range(20):\n",
    "    if x % 2 == 0:\n",
    "        print(x, end= \" \")\n",
    "    else:\n",
    "        print(\"Odd\", end= \" \")\n",
    "    "
   ]
  },
  {
   "cell_type": "code",
   "execution_count": 15,
   "id": "3f9154ae",
   "metadata": {},
   "outputs": [
    {
     "data": {
      "text/plain": [
       "4"
      ]
     },
     "execution_count": 15,
     "metadata": {},
     "output_type": "execute_result"
    }
   ],
   "source": [
    "def count(numbers):\n",
    "    total = 0\n",
    "    for x in numbers:\n",
    "        if x<20:\n",
    "            total +=1\n",
    "    return total\n",
    "\n",
    "list_1 = [1,3,7,15,23,43,56,98]\n",
    "count(list_1)"
   ]
  },
  {
   "cell_type": "code",
   "execution_count": 16,
   "id": "f56f7fa1",
   "metadata": {},
   "outputs": [
    {
     "data": {
      "text/plain": [
       "4"
      ]
     },
     "execution_count": 16,
     "metadata": {},
     "output_type": "execute_result"
    }
   ],
   "source": [
    "def count(numbers):\n",
    "    total = 0\n",
    "    for x in numbers:\n",
    "        if x<20:\n",
    "            total +=1\n",
    "    return total\n",
    "\n",
    "list_1 = [1,3,7,15,23,43,56,98,34,60]\n",
    "count(list_1)"
   ]
  },
  {
   "cell_type": "code",
   "execution_count": 17,
   "id": "b5b34b3f",
   "metadata": {},
   "outputs": [
    {
     "data": {
      "text/plain": [
       "2"
      ]
     },
     "execution_count": 17,
     "metadata": {},
     "output_type": "execute_result"
    }
   ],
   "source": [
    "nums = [1,12,24,31,51,70,100]\n",
    "\n",
    "def count(numbers):\n",
    "    total = 0\n",
    "    while numbers[total] <20:\n",
    "        total = total +1\n",
    "    return total\n",
    "count(nums)"
   ]
  },
  {
   "cell_type": "code",
   "execution_count": null,
   "id": "28dc31aa",
   "metadata": {},
   "outputs": [],
   "source": [
    "total = 0\n",
    "num = int(input(\" Please Enter any integer below 10:  \"))\n",
    "while (num <= 10):\n",
    "    total = total + num\n",
    "    num = num + 1\n",
    "    \n",
    "print(\" Total is: \", total)"
   ]
  },
  {
   "cell_type": "markdown",
   "id": "4dc3d020",
   "metadata": {},
   "source": [
    "# Create a For loop that will print all the variables from a given list multiplied by 2. Let the list contain all numbers from 1 to 10. Create it with the help of the range() function."
   ]
  },
  {
   "cell_type": "code",
   "execution_count": 1,
   "id": "719c3e34",
   "metadata": {},
   "outputs": [
    {
     "name": "stdout",
     "output_type": "stream",
     "text": [
      "2\n",
      "4\n",
      "6\n",
      "8\n",
      "10\n",
      "12\n",
      "14\n",
      "16\n",
      "18\n",
      "20\n"
     ]
    }
   ],
   "source": [
    "for n in range(1,11):\n",
    "    print (n*2)"
   ]
  },
  {
   "cell_type": "code",
   "execution_count": 2,
   "id": "e66ff742",
   "metadata": {},
   "outputs": [
    {
     "name": "stdout",
     "output_type": "stream",
     "text": [
      "[5, 10, 15, 20, 25]\n"
     ]
    }
   ],
   "source": [
    "my_list = [1, 2, 3, 4, 5]\n",
    "my_new_list = [i * 5 for i in my_list]\n",
    "\n",
    "print(my_new_list)"
   ]
  },
  {
   "cell_type": "code",
   "execution_count": 6,
   "id": "e0aec72f",
   "metadata": {},
   "outputs": [
    {
     "name": "stdout",
     "output_type": "stream",
     "text": [
      "1 even 3 even 5 even 7 even 9 even 11 even 13 even 15 even 17 even 19 even 21 even 23 even 25 even 27 even 29 even "
     ]
    }
   ],
   "source": [
    "for i in range(1,31):\n",
    "    if i%2!=0:\n",
    "        print(i,end = \" \")\n",
    "    else:\n",
    "        print('even', end = \" \")"
   ]
  },
  {
   "cell_type": "code",
   "execution_count": 8,
   "id": "12c1c394",
   "metadata": {},
   "outputs": [
    {
     "name": "stdout",
     "output_type": "stream",
     "text": [
      "1 is odd\n",
      "2 is even.\n",
      "3 is odd\n",
      "4 is even.\n",
      "5 is odd\n",
      "6 is even.\n",
      "7 is odd\n",
      "8 is even.\n",
      "9 is odd\n",
      "10 is even.\n",
      "11 is odd\n",
      "12 is even.\n",
      "13 is odd\n",
      "14 is even.\n",
      "15 is odd\n",
      "16 is even.\n",
      "17 is odd\n",
      "18 is even.\n",
      "19 is odd\n",
      "20 is even.\n",
      "21 is odd\n",
      "22 is even.\n",
      "23 is odd\n",
      "24 is even.\n",
      "25 is odd\n",
      "26 is even.\n",
      "27 is odd\n",
      "28 is even.\n",
      "29 is odd\n",
      "30 is even.\n",
      "31 is odd\n",
      "32 is even.\n",
      "33 is odd\n",
      "34 is even.\n",
      "35 is odd\n",
      "36 is even.\n",
      "37 is odd\n",
      "38 is even.\n",
      "39 is odd\n",
      "40 is even.\n",
      "41 is odd\n",
      "42 is even.\n",
      "43 is odd\n",
      "44 is even.\n",
      "45 is odd\n",
      "46 is even.\n",
      "47 is odd\n",
      "48 is even.\n",
      "49 is odd\n",
      "50 is even.\n",
      "51 is odd\n",
      "52 is even.\n",
      "53 is odd\n",
      "54 is even.\n",
      "55 is odd\n",
      "56 is even.\n",
      "57 is odd\n",
      "58 is even.\n",
      "59 is odd\n",
      "60 is even.\n",
      "61 is odd\n",
      "62 is even.\n",
      "63 is odd\n",
      "64 is even.\n",
      "65 is odd\n",
      "66 is even.\n",
      "67 is odd\n",
      "68 is even.\n",
      "69 is odd\n",
      "70 is even.\n",
      "71 is odd\n",
      "72 is even.\n",
      "73 is odd\n",
      "74 is even.\n",
      "75 is odd\n",
      "76 is even.\n",
      "77 is odd\n",
      "78 is even.\n",
      "79 is odd\n",
      "80 is even.\n",
      "81 is odd\n",
      "82 is even.\n",
      "83 is odd\n",
      "84 is even.\n",
      "85 is odd\n",
      "86 is even.\n",
      "87 is odd\n",
      "88 is even.\n",
      "89 is odd\n",
      "90 is even.\n",
      "91 is odd\n",
      "92 is even.\n",
      "93 is odd\n",
      "94 is even.\n",
      "95 is odd\n",
      "96 is even.\n",
      "97 is odd\n",
      "98 is even.\n",
      "99 is odd\n",
      "100 is even.\n"
     ]
    }
   ],
   "source": [
    "n = 1\n",
    "while (n <=100):\n",
    "    if n % 2 == 0:\n",
    "        print (n, \"is even.\")\n",
    "    else:\n",
    "        print (n, \"is odd\")\n",
    "    \n",
    "    n +=1"
   ]
  },
  {
   "cell_type": "markdown",
   "id": "9953de01",
   "metadata": {},
   "source": [
    "# Create a little program that runs a loop over all values from 1 to 30. Let it print all odd numbers, and in the place of the even numbers, it should print \"Even\". Help yourself with the range() function to solve this exercise."
   ]
  },
  {
   "cell_type": "code",
   "execution_count": 9,
   "id": "e0406a06",
   "metadata": {},
   "outputs": [
    {
     "name": "stdout",
     "output_type": "stream",
     "text": [
      "1 Even 3 Even 5 Even 7 Even 9 Even 11 Even 13 Even 15 Even 17 Even 19 Even 21 Even 23 Even 25 Even 27 Even 29 Even "
     ]
    }
   ],
   "source": [
    "for n in range(1,31):\n",
    "    if n%2!=0:\n",
    "        print(n,end = \" \")\n",
    "    else:\n",
    "        print('Even', end = \" \")"
   ]
  },
  {
   "cell_type": "code",
   "execution_count": 10,
   "id": "9c3452b4",
   "metadata": {},
   "outputs": [
    {
     "name": "stdout",
     "output_type": "stream",
     "text": [
      "1 Even 3 Even 5 Even 7 Even 9 Even 11 Even 13 Even 15 Even 17 Even 19 Even 21 Even 23 Even 25 Even 27 Even 29 Even "
     ]
    }
   ],
   "source": [
    "n = 1\n",
    "while (n <=30):\n",
    "    if n % 2!=0:\n",
    "        print (n, end = \" \")\n",
    "    else:\n",
    "        print ('Even', end = \" \")\n",
    "    \n",
    "    n +=1"
   ]
  },
  {
   "cell_type": "code",
   "execution_count": 4,
   "id": "e63e806d",
   "metadata": {},
   "outputs": [
    {
     "name": "stdout",
     "output_type": "stream",
     "text": [
      "[10, 20, 30, 40, 50, 60] "
     ]
    }
   ],
   "source": [
    "n = [1,2,3,4,5,6]\n",
    "my_new_list = [i * 10 for i in n]\n",
    "print(my_new_list, end = \" \")"
   ]
  },
  {
   "cell_type": "code",
   "execution_count": 2,
   "id": "9656a0ce",
   "metadata": {},
   "outputs": [
    {
     "name": "stdout",
     "output_type": "stream",
     "text": [
      "10 20 30 40 50 60 "
     ]
    }
   ],
   "source": [
    "n = [1,2,3,4,5,6]\n",
    "for item in n:\n",
    "    print(item * 10, end = \" \")"
   ]
  },
  {
   "cell_type": "code",
   "execution_count": 6,
   "id": "94134396",
   "metadata": {},
   "outputs": [
    {
     "ename": "SyntaxError",
     "evalue": "invalid syntax (4205160220.py, line 1)",
     "output_type": "error",
     "traceback": [
      "\u001b[1;36m  File \u001b[1;32m\"C:\\Users\\USER\\AppData\\Local\\Temp\\ipykernel_10916\\4205160220.py\"\u001b[1;36m, line \u001b[1;32m1\u001b[0m\n\u001b[1;33m    Hi Udemy Team,Please provide an appropriate resolution of the coding exercise 95.Thanks & RegardsSk Nadeem\u001b[0m\n\u001b[1;37m       ^\u001b[0m\n\u001b[1;31mSyntaxError\u001b[0m\u001b[1;31m:\u001b[0m invalid syntax\n"
     ]
    }
   ],
   "source": [
    "Hi Udemy Team,Please provide an appropriate resolution of the coding exercise 95.Thanks & RegardsSk Nadeem"
   ]
  },
  {
   "cell_type": "markdown",
   "id": "f7c31006",
   "metadata": {},
   "source": [
    "# You are provided with the nums list. Complete the code in the cell that follows. Use a while loop to count the number of values lower than 20."
   ]
  },
  {
   "cell_type": "code",
   "execution_count": 14,
   "id": "cc54d531",
   "metadata": {},
   "outputs": [
    {
     "data": {
      "text/plain": [
       "2"
      ]
     },
     "execution_count": 14,
     "metadata": {},
     "output_type": "execute_result"
    }
   ],
   "source": [
    "nums = [1,35,12,24,31,51,70,100]\n",
    " \n",
    "def count(numbers):\n",
    "    numbers = sorted(numbers)\n",
    "    tot = 0\n",
    "    \n",
    "    while numbers[tot] < 20:\n",
    "        tot += 1\n",
    "    return tot\n",
    "\n",
    "count(nums)"
   ]
  },
  {
   "cell_type": "code",
   "execution_count": 13,
   "id": "b8b3e0f4",
   "metadata": {},
   "outputs": [
    {
     "data": {
      "text/plain": [
       "2"
      ]
     },
     "execution_count": 13,
     "metadata": {},
     "output_type": "execute_result"
    }
   ],
   "source": [
    "nums = [1,12,24,31,51,70,100]\n",
    "\n",
    "def count(numbers):\n",
    "    total = 0\n",
    "    while numbers[total] <20:\n",
    "        total = total +1\n",
    "    return total\n",
    "count(nums)"
   ]
  },
  {
   "cell_type": "code",
   "execution_count": 17,
   "id": "3fb46930",
   "metadata": {},
   "outputs": [
    {
     "name": "stdout",
     "output_type": "stream",
     "text": [
      "[10, 20, 30, 40, 50, 60] "
     ]
    }
   ],
   "source": [
    "n = [1,2,3,4,5,6]\n",
    "for i in range(len(n)):\n",
    "    n[i]=n[i]*10\n",
    "    \n",
    "print(n, end = \" \")"
   ]
  },
  {
   "cell_type": "code",
   "execution_count": 19,
   "id": "565366dc",
   "metadata": {},
   "outputs": [
    {
     "name": "stdout",
     "output_type": "stream",
     "text": [
      "[10, 20, 30, 40, 50, 60]\n",
      "[100, 200, 300, 400, 500, 600]\n"
     ]
    }
   ],
   "source": [
    "n = [1,2,3,4,5,6]\n",
    "\n",
    "n=[i*10 for i in n]\n",
    "print(n)\n",
    "\n",
    "for i in range(len(n)):\n",
    "    n[i]=n[i]*10\n",
    "print(n)"
   ]
  },
  {
   "cell_type": "code",
   "execution_count": 20,
   "id": "6880cf53",
   "metadata": {},
   "outputs": [
    {
     "name": "stdout",
     "output_type": "stream",
     "text": [
      "The list is: [2, 5, 3, 7, 4, 85, -3]\n",
      "The product is: \n",
      "-214200\n"
     ]
    }
   ],
   "source": [
    "import numpy as np\n",
    "\n",
    "import numpy\n",
    "def multiply_numbers(list):\n",
    "   return numpy.prod(list)\n",
    "\n",
    "given_list = [2,5,3,7,4,85,-3]\n",
    "print('The list is:',given_list)\n",
    "print(\"The product is: \")\n",
    "print(multiply_numbers(given_list))"
   ]
  },
  {
   "cell_type": "code",
   "execution_count": null,
   "id": "86190d28",
   "metadata": {},
   "outputs": [],
   "source": []
  }
 ],
 "metadata": {
  "kernelspec": {
   "display_name": "Python 3 (ipykernel)",
   "language": "python",
   "name": "python3"
  },
  "language_info": {
   "codemirror_mode": {
    "name": "ipython",
    "version": 3
   },
   "file_extension": ".py",
   "mimetype": "text/x-python",
   "name": "python",
   "nbconvert_exporter": "python",
   "pygments_lexer": "ipython3",
   "version": "3.9.13"
  }
 },
 "nbformat": 4,
 "nbformat_minor": 5
}
