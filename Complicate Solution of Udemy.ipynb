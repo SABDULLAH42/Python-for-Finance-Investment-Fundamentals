{
 "cells": [
  {
   "cell_type": "code",
   "execution_count": 3,
   "id": "385ff5be",
   "metadata": {},
   "outputs": [
    {
     "name": "stdout",
     "output_type": "stream",
     "text": [
      "Collecting data-reader\n",
      "  Downloading data_reader-0.0.8-py3-none-any.whl (6.0 kB)\n",
      "Collecting ijson\n",
      "  Downloading ijson-3.2.0.post0-cp39-cp39-win_amd64.whl (48 kB)\n",
      "     -------------------------------------- 48.2/48.2 kB 303.9 kB/s eta 0:00:00\n",
      "Installing collected packages: ijson, data-reader\n",
      "Successfully installed data-reader-0.0.8 ijson-3.2.0.post0\n",
      "Note: you may need to restart the kernel to use updated packages.\n"
     ]
    }
   ],
   "source": [
    "pip install data-reader"
   ]
  },
  {
   "cell_type": "code",
   "execution_count": 1,
   "id": "9c994dd7",
   "metadata": {},
   "outputs": [
    {
     "name": "stdout",
     "output_type": "stream",
     "text": [
      "10 Dollars\n"
     ]
    }
   ],
   "source": [
    "y = 10\n",
    "print(str(y) + \" Dollars\")"
   ]
  },
  {
   "cell_type": "code",
   "execution_count": 2,
   "id": "7e0abf1f",
   "metadata": {},
   "outputs": [
    {
     "name": "stdout",
     "output_type": "stream",
     "text": [
      "'It's cool, isn't it ?\n"
     ]
    }
   ],
   "source": [
    "print(\"'It\\'s cool, isn\\'t it ?\")"
   ]
  },
  {
   "cell_type": "code",
   "execution_count": 4,
   "id": "d1ff0e59",
   "metadata": {},
   "outputs": [
    {
     "name": "stdout",
     "output_type": "stream",
     "text": [
      "It's cool, isn't it ?\n"
     ]
    }
   ],
   "source": [
    "print(\"It\\'s cool, isn\\'t it ?\")"
   ]
  },
  {
   "cell_type": "code",
   "execution_count": 6,
   "id": "2f7b7ba4",
   "metadata": {},
   "outputs": [
    {
     "name": "stdout",
     "output_type": "stream",
     "text": [
      "It's cool, isn't it ?\n"
     ]
    }
   ],
   "source": [
    "print('It\\'s cool, isn\\'t it ?')"
   ]
  },
  {
   "cell_type": "code",
   "execution_count": 9,
   "id": "1cabfe8a",
   "metadata": {},
   "outputs": [
    {
     "name": "stdout",
     "output_type": "stream",
     "text": [
      "Big Houses\n",
      "Big Houses\n"
     ]
    }
   ],
   "source": [
    "print('Big ' + 'Houses')\n",
    "print('Big ' 'Houses')"
   ]
  },
  {
   "cell_type": "code",
   "execution_count": 10,
   "id": "1ccb7904",
   "metadata": {},
   "outputs": [
    {
     "name": "stdout",
     "output_type": "stream",
     "text": [
      "Big Houses\n",
      "Big Houses\n"
     ]
    }
   ],
   "source": [
    "print(\"Big\" + \" Houses\")\n",
    "print('Big', 'Houses')"
   ]
  },
  {
   "cell_type": "code",
   "execution_count": 11,
   "id": "8ff83f0a",
   "metadata": {},
   "outputs": [
    {
     "name": "stdout",
     "output_type": "stream",
     "text": [
      "Big Houses\n",
      "Big Houses\n"
     ]
    }
   ],
   "source": [
    "print('Big ' + 'Houses')\n",
    "print('Big', 'Houses')"
   ]
  },
  {
   "cell_type": "code",
   "execution_count": 12,
   "id": "72d1e636",
   "metadata": {},
   "outputs": [],
   "source": [
    "x2 = 4.75\n"
   ]
  },
  {
   "cell_type": "code",
   "execution_count": 13,
   "id": "c6218af9",
   "metadata": {},
   "outputs": [
    {
     "data": {
      "text/plain": [
       "float"
      ]
     },
     "execution_count": 13,
     "metadata": {},
     "output_type": "execute_result"
    }
   ],
   "source": [
    "type(x2)"
   ]
  },
  {
   "cell_type": "code",
   "execution_count": 14,
   "id": "1216f255",
   "metadata": {},
   "outputs": [
    {
     "data": {
      "text/plain": [
       "4"
      ]
     },
     "execution_count": 14,
     "metadata": {},
     "output_type": "execute_result"
    }
   ],
   "source": [
    "int(x2)"
   ]
  },
  {
   "cell_type": "code",
   "execution_count": 15,
   "id": "2f376ef4",
   "metadata": {},
   "outputs": [
    {
     "name": "stdout",
     "output_type": "stream",
     "text": [
      "Big Houses\n",
      "Big Houses\n"
     ]
    }
   ],
   "source": [
    "print(\"Big \"+\"Houses\")\n",
    "print(\"Big\",\"Houses\")"
   ]
  },
  {
   "cell_type": "code",
   "execution_count": 16,
   "id": "d2f6e916",
   "metadata": {},
   "outputs": [
    {
     "name": "stdout",
     "output_type": "stream",
     "text": [
      "                 Name  Age  Working Experience (Yrs.)\n",
      "1           Amy White   50                          5\n",
      "2        Jack Stewart   53                          8\n",
      "3  Richard Lauderdale   35                          3\n",
      "4        Sara Johnson   43                         10\n"
     ]
    }
   ],
   "source": [
    "import pandas as pd\n",
    "data = {\n",
    "    \"Name\":['Amy White', 'Jack Stewart', 'Richard Lauderdale', 'Sara Johnson'], \n",
    "    \"Age\":[50, 53, 35, 43], \n",
    "    \"Working Experience (Yrs.)\":[5,8,3,10]}\n",
    "df = pd.DataFrame(data, index = range(1,5))\n",
    "print(df)"
   ]
  },
  {
   "cell_type": "markdown",
   "id": "b8d6a1e3",
   "metadata": {},
   "source": [
    "# Assign 10 to the variable x and 25 to the variable y. In the same cell, create 2 conditional statements. Let the first one print \"Both conditions are correct\" if x is greater then 3 and y is greater than 13. Let the second one print \"At least one of the conditions is false\" if x is less than or equal to 3 or y is less than or equal to 13. Change the values assigned to x and y and re-run the cell to verify your code still works."
   ]
  },
  {
   "cell_type": "code",
   "execution_count": 22,
   "id": "33ae69e3",
   "metadata": {},
   "outputs": [
    {
     "name": "stdout",
     "output_type": "stream",
     "text": [
      "Both conditions are correct\n",
      "Both conditions are correct\n"
     ]
    }
   ],
   "source": [
    "x = 10\n",
    "y = 25\n",
    " \n",
    "if x > 3 and y > 13:\n",
    "    print(\"Both conditions are correct\")\n",
    "else:\n",
    "    print(\"At least one of the conditions is false\")\n",
    " \n",
    "if x <= 3 or y <= 13:\n",
    "    print(\"At least one of the conditions is true\")\n",
    "else:\n",
    "    print(\"Both conditions are correct\")"
   ]
  },
  {
   "cell_type": "code",
   "execution_count": 23,
   "id": "8d886109",
   "metadata": {},
   "outputs": [
    {
     "name": "stdout",
     "output_type": "stream",
     "text": [
      "At least one of the conditions is false\n",
      "At least one of the conditions is true\n"
     ]
    }
   ],
   "source": [
    "x = 2\n",
    "y = 25\n",
    " \n",
    "if x > 3 and y > 13:\n",
    "    print(\"Both conditions are correct\")\n",
    "else:\n",
    "    print(\"At least one of the conditions is false\")\n",
    " \n",
    "if x <= 3 or y <= 13:\n",
    "    print(\"At least one of the conditions is true\")\n",
    "else:\n",
    "    print(\"Both conditions are correct\")"
   ]
  },
  {
   "cell_type": "code",
   "execution_count": 25,
   "id": "75bab34c",
   "metadata": {},
   "outputs": [
    {
     "name": "stdout",
     "output_type": "stream",
     "text": [
      "A calm day\n"
     ]
    }
   ],
   "source": [
    "x = 97\n",
    "\n",
    "if x > 100:\n",
    "    print(\"A busy Day\")\n",
    "else:\n",
    "    print(\"A calm day\")"
   ]
  },
  {
   "cell_type": "markdown",
   "id": "14245a2d",
   "metadata": {},
   "source": [
    "# Let x represent the number of orders received during a certain day. Create a program that prints \"A busy day\" if x is greater than 100, and \"A calm day\" otherwise."
   ]
  },
  {
   "cell_type": "code",
   "execution_count": 26,
   "id": "0da5ab54",
   "metadata": {},
   "outputs": [
    {
     "name": "stdout",
     "output_type": "stream",
     "text": [
      "A calm day\n"
     ]
    }
   ],
   "source": [
    "x=100\n",
    "if x > 100:\n",
    "    print(\"A busy day\")\n",
    "else:\n",
    "    print(\"A calm day\")"
   ]
  },
  {
   "cell_type": "markdown",
   "id": "f2a41a96",
   "metadata": {},
   "source": [
    "# Define a function called plus_five() that adds 5 to its argument. Then, define another function named m_by_3() that multiplies the argument (the result obtained from plus_five()) by 3. Verify your code was correct by calling the second function with an argument of 5. Was your output equal to 30?"
   ]
  },
  {
   "cell_type": "code",
   "execution_count": 27,
   "id": "15bb834f",
   "metadata": {},
   "outputs": [
    {
     "data": {
      "text/plain": [
       "30"
      ]
     },
     "execution_count": 27,
     "metadata": {},
     "output_type": "execute_result"
    }
   ],
   "source": [
    "def plus_five(x):\n",
    "    return x + 5\n",
    " \n",
    "def m_by_3(x):\n",
    "    return plus_five(x) * 3\n",
    "    \n",
    "m_by_3(5)"
   ]
  },
  {
   "cell_type": "code",
   "execution_count": 29,
   "id": "fd2302cf",
   "metadata": {},
   "outputs": [
    {
     "name": "stdout",
     "output_type": "stream",
     "text": [
      "0\n"
     ]
    }
   ],
   "source": [
    "b = 0.99\n",
    "b = int(b)\n",
    "print(b)"
   ]
  },
  {
   "cell_type": "code",
   "execution_count": 30,
   "id": "53dc65fb",
   "metadata": {},
   "outputs": [
    {
     "name": "stdout",
     "output_type": "stream",
     "text": [
      "0\n"
     ]
    }
   ],
   "source": [
    "print(int(0.99))"
   ]
  },
  {
   "cell_type": "markdown",
   "id": "2b8bc263",
   "metadata": {},
   "source": [
    "# Create a function, called distance_from_zero(), that returns the absolute value of a provided single argument and prints a statement \"Not possible\" if the argument provided is not a number. To solve the task, use the type() function in the body of distance_from_zero().\n",
    "\n",
    "Call the function with the values of -10 and \"cat\" to verify it works correctly."
   ]
  },
  {
   "cell_type": "code",
   "execution_count": 31,
   "id": "4d4ef608",
   "metadata": {},
   "outputs": [
    {
     "name": "stdout",
     "output_type": "stream",
     "text": [
      "Not possible\n"
     ]
    }
   ],
   "source": [
    "def distance_from_zero(x):\n",
    "    if type(x) == int or type(x) == float:\n",
    "        return abs(x)\n",
    "    else:\n",
    "        print (\"Not possible\")\n",
    "        \n",
    "distance_from_zero(-10)\n",
    "distance_from_zero(\"cat\")"
   ]
  },
  {
   "cell_type": "markdown",
   "id": "f28950b1",
   "metadata": {},
   "source": [
    "# Use the range() function to create a list with all numbers from 1 to 10."
   ]
  },
  {
   "cell_type": "code",
   "execution_count": 32,
   "id": "cbce32f0",
   "metadata": {},
   "outputs": [
    {
     "data": {
      "text/plain": [
       "[1, 2, 3, 4, 5, 6, 7, 8, 9, 10]"
      ]
     },
     "execution_count": 32,
     "metadata": {},
     "output_type": "execute_result"
    }
   ],
   "source": [
    "list(range(1,11))"
   ]
  },
  {
   "cell_type": "markdown",
   "id": "f94697aa",
   "metadata": {},
   "source": [
    "# Use the range() function to create a list with all numbers from 0 to 19."
   ]
  },
  {
   "cell_type": "code",
   "execution_count": 33,
   "id": "4ab6af65",
   "metadata": {},
   "outputs": [
    {
     "name": "stdout",
     "output_type": "stream",
     "text": [
      "[0, 1, 2, 3, 4, 5, 6, 7, 8, 9, 10, 11, 12, 13, 14, 15, 16, 17, 18, 19]\n"
     ]
    }
   ],
   "source": [
    "print(list(range(0,20)))"
   ]
  },
  {
   "cell_type": "code",
   "execution_count": 34,
   "id": "edd3391d",
   "metadata": {},
   "outputs": [
    {
     "name": "stdout",
     "output_type": "stream",
     "text": [
      "[0, 2, 4, 6, 8, 10, 12, 14, 16, 18, 20, 22, 24, 26, 28, 30]\n"
     ]
    }
   ],
   "source": [
    "print(list(range(0,32,2)))"
   ]
  },
  {
   "cell_type": "code",
   "execution_count": 37,
   "id": "9fc99ccb",
   "metadata": {},
   "outputs": [
    {
     "name": "stdout",
     "output_type": "stream",
     "text": [
      "The fourth element of the Numbers list is 100\n"
     ]
    }
   ],
   "source": [
    "Numbers = [15, 40, 50, 100, 115, 140]\n",
    "print('The fourth element of the Numbers list is' , Numbers[3])"
   ]
  },
  {
   "cell_type": "code",
   "execution_count": 3,
   "id": "a18b1994",
   "metadata": {},
   "outputs": [
    {
     "name": "stdout",
     "output_type": "stream",
     "text": [
      "20 40 60 80 100 20 40 60 80 100 "
     ]
    }
   ],
   "source": [
    "n = [2,4,6,8,10]\n",
    "\n",
    "for num in n:\n",
    "    multiplied_by_10 = num * 10\n",
    "    print(multiplied_by_10, end= \" \")\n",
    "    \n",
    "result = [num * 10 for num in n]\n",
    "print(*result, end= \" \")"
   ]
  },
  {
   "cell_type": "code",
   "execution_count": 2,
   "id": "3066e10c",
   "metadata": {},
   "outputs": [
    {
     "name": "stdout",
     "output_type": "stream",
     "text": [
      "20 40 60 80 100 "
     ]
    }
   ],
   "source": [
    "result = [num * 10 for num in n]\n",
    "print(*result, end= \" \")"
   ]
  },
  {
   "cell_type": "markdown",
   "id": "56bd86ae",
   "metadata": {},
   "source": [
    "# You have the following list of numbers. Iterate over this list, printing out each list value multiplied by 10. Find two solutions of this problem."
   ]
  },
  {
   "cell_type": "code",
   "execution_count": 4,
   "id": "543a3f79",
   "metadata": {},
   "outputs": [
    {
     "name": "stdout",
     "output_type": "stream",
     "text": [
      "10 20 30 40 50 60 10 20 30 40 50 60 "
     ]
    }
   ],
   "source": [
    "n = [1,2,3,4,5,6]\n",
    "for num in n:\n",
    "    multiplied_by_10 = num * 10\n",
    "    print(multiplied_by_10, end= \" \")\n",
    "    \n",
    "result = [num * 10 for num in n]\n",
    "print(*result, end= \" \")"
   ]
  },
  {
   "cell_type": "code",
   "execution_count": 5,
   "id": "4d6aa5c1",
   "metadata": {},
   "outputs": [
    {
     "name": "stdout",
     "output_type": "stream",
     "text": [
      "10 20 30 40 50 60 "
     ]
    }
   ],
   "source": [
    "n = [1,2,3,4,5,6]\n",
    "for item in n:\n",
    "\n",
    "    print (item * 10, end = \" \") "
   ]
  },
  {
   "cell_type": "code",
   "execution_count": null,
   "id": "c0ea5fb2",
   "metadata": {},
   "outputs": [],
   "source": []
  }
 ],
 "metadata": {
  "kernelspec": {
   "display_name": "Python 3 (ipykernel)",
   "language": "python",
   "name": "python3"
  },
  "language_info": {
   "codemirror_mode": {
    "name": "ipython",
    "version": 3
   },
   "file_extension": ".py",
   "mimetype": "text/x-python",
   "name": "python",
   "nbconvert_exporter": "python",
   "pygments_lexer": "ipython3",
   "version": "3.9.13"
  }
 },
 "nbformat": 4,
 "nbformat_minor": 5
}
