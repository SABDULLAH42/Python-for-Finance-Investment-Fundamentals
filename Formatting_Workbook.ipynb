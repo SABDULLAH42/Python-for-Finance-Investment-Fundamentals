{
 "cells": [
  {
   "cell_type": "code",
   "execution_count": 1,
   "id": "13c4ff0d",
   "metadata": {},
   "outputs": [],
   "source": [
    "import openpyxl"
   ]
  },
  {
   "cell_type": "code",
   "execution_count": 2,
   "id": "f6dcfeed",
   "metadata": {},
   "outputs": [],
   "source": [
    "from openpyxl.styles import Font, colors, Color, Alignment, PatternFill, GradientFill, Border, Side"
   ]
  },
  {
   "cell_type": "code",
   "execution_count": 4,
   "id": "fbf51ddb",
   "metadata": {},
   "outputs": [],
   "source": [
    "from openpyxl.styles import NamedStyle"
   ]
  },
  {
   "cell_type": "code",
   "execution_count": 5,
   "id": "4c589f63",
   "metadata": {},
   "outputs": [],
   "source": [
    "from openpyxl.workbook import Workbook"
   ]
  },
  {
   "cell_type": "code",
   "execution_count": 7,
   "id": "e34ce227",
   "metadata": {},
   "outputs": [],
   "source": [
    "wb = Workbook()\n",
    "ws = wb.active"
   ]
  },
  {
   "cell_type": "code",
   "execution_count": 8,
   "id": "39477d76",
   "metadata": {},
   "outputs": [],
   "source": [
    "for i in range(1,20):\n",
    "    ws.append(range(300))"
   ]
  },
  {
   "cell_type": "code",
   "execution_count": 10,
   "id": "65becc13",
   "metadata": {},
   "outputs": [],
   "source": [
    "ws.merge_cells(\"A1:B5\")\n",
    "ws.unmerge_cells(\"A1:B5\")\n",
    "ws.merge_cells(start_row=2, start_column=2, end_row=5, end_column=5)\n"
   ]
  },
  {
   "cell_type": "code",
   "execution_count": 16,
   "id": "837f0e5e",
   "metadata": {},
   "outputs": [],
   "source": [
    "cell = ws['B2']\n",
    "cell.font = Font(color=colors.BLUE, size=20, italic=True)\n",
    "cell.value = 'Merged Cell'\n",
    "cell.alignment = Alignment(horizontal = 'right', vertical='bottom')\n"
   ]
  },
  {
   "cell_type": "code",
   "execution_count": 17,
   "id": "b3fb7ea2",
   "metadata": {},
   "outputs": [],
   "source": [
    "wb.save('text.xlsx')"
   ]
  },
  {
   "cell_type": "code",
   "execution_count": null,
   "id": "f897bdf5",
   "metadata": {},
   "outputs": [],
   "source": []
  }
 ],
 "metadata": {
  "kernelspec": {
   "display_name": "Python 3 (ipykernel)",
   "language": "python",
   "name": "python3"
  },
  "language_info": {
   "codemirror_mode": {
    "name": "ipython",
    "version": 3
   },
   "file_extension": ".py",
   "mimetype": "text/x-python",
   "name": "python",
   "nbconvert_exporter": "python",
   "pygments_lexer": "ipython3",
   "version": "3.9.13"
  }
 },
 "nbformat": 4,
 "nbformat_minor": 5
}
