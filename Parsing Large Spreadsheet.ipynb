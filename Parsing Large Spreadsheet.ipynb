{
 "cells": [
  {
   "cell_type": "code",
   "execution_count": 1,
   "id": "11196baf",
   "metadata": {},
   "outputs": [],
   "source": [
    "import pandas as pd\n",
    "import numpy as np\n",
    "import openpyxl\n",
    "from openpyxl import load_workbook\n",
    "from openpyxl.utils.dataframe import dataframe_to_rows"
   ]
  },
  {
   "cell_type": "code",
   "execution_count": 2,
   "id": "dc7e2b89",
   "metadata": {},
   "outputs": [],
   "source": [
    "wb = load_workbook('C:\\\\Users\\\\USER\\\\Desktop\\\\LINKEDIN_LEARNING\\\\Using_Python_with_Excel\\\\template.xlsx')\n",
    "ws = wb.active"
   ]
  },
  {
   "cell_type": "code",
   "execution_count": 3,
   "id": "4d58445c",
   "metadata": {},
   "outputs": [],
   "source": [
    "df = pd.read_csv('C:\\\\Users\\\\USER\\\\Desktop\\\\LINKEDIN_LEARNING\\\\Using_Python_with_Excel\\\\crime.csv', \n",
    "                 encoding= 'utf-8', dtype={\"INCIDENT_NUMBER\": str, \"OFFENSE_CODE\": str, \"OFFENSE_CODE_GROUP\": str, \n",
    "                                                        \"OFFENSE_DESCRIPTION\": str, \"DISTRICT\": str, \"REPORTING_AREA\": str, \"SHOOTING\": str, \"YEAR\": str, \"MONTH\": str, \n",
    "                                                       \"DAY_OF_WEEK\" : str, \"HOUR\": str})"
   ]
  },
  {
   "cell_type": "code",
   "execution_count": 4,
   "id": "3fa649eb",
   "metadata": {},
   "outputs": [],
   "source": [
    "df1 = df[df['OFFENSE_CODE_GROUP'] == 'Counterfeiting']"
   ]
  },
  {
   "cell_type": "code",
   "execution_count": 5,
   "id": "8bd59792",
   "metadata": {},
   "outputs": [],
   "source": [
    "df1 = df1.replace(np.nan, 'N/A' , regex=True)"
   ]
  },
  {
   "cell_type": "code",
   "execution_count": 6,
   "id": "fbf5c9a7",
   "metadata": {},
   "outputs": [],
   "source": [
    "total_crimes = len(df.index)\n",
    "counterfeit = len(df.index)\n",
    "perc_crimes = (counterfeit/total_crimes) * 100\n",
    "perc_crimes = round(perc_crimes, 2)"
   ]
  },
  {
   "cell_type": "code",
   "execution_count": 7,
   "id": "530a9455",
   "metadata": {},
   "outputs": [],
   "source": [
    "ws['O8'].value = total_crimes\n",
    "ws['P8'].value = counterfeit\n",
    "ws['Q8'].value = perc_crimes"
   ]
  },
  {
   "cell_type": "markdown",
   "id": "1afe3b44",
   "metadata": {},
   "source": [
    "# If we want data display in Vertical way"
   ]
  },
  {
   "cell_type": "code",
   "execution_count": 8,
   "id": "44b783ca",
   "metadata": {},
   "outputs": [
    {
     "name": "stdout",
     "output_type": "stream",
     "text": [
      "DISTRICT  YEAR\n",
      "A1        2015    25\n",
      "          2016    57\n",
      "          2017    37\n",
      "          2018    27\n",
      "A15       2015     5\n",
      "          2016     2\n",
      "          2017     8\n",
      "          2018     3\n",
      "A7        2015     6\n",
      "          2016    16\n",
      "          2017    14\n",
      "          2018     8\n",
      "B2        2015    32\n",
      "          2016    68\n",
      "          2017    64\n",
      "          2018    28\n",
      "B3        2015    26\n",
      "          2016    44\n",
      "          2017    34\n",
      "          2018    23\n",
      "C11       2015    73\n",
      "          2016    98\n",
      "          2017    62\n",
      "          2018    41\n",
      "C6        2015    16\n",
      "          2016    28\n",
      "          2017    27\n",
      "          2018    21\n",
      "D14       2015     6\n",
      "          2016    32\n",
      "          2017    69\n",
      "          2018    15\n",
      "D4        2015    35\n",
      "          2016    64\n",
      "          2017    66\n",
      "          2018    49\n",
      "E13       2015    17\n",
      "          2016    42\n",
      "          2017    37\n",
      "          2018    18\n",
      "E18       2015    20\n",
      "          2016    26\n",
      "          2017    23\n",
      "          2018    17\n",
      "E5        2015    15\n",
      "          2016    17\n",
      "          2017    15\n",
      "          2018    11\n",
      "N/A       2017     1\n",
      "          2018     1\n",
      "Name: Count, dtype: int64\n"
     ]
    }
   ],
   "source": [
    "df1['Count'] = 1\n",
    "df2 = df1.groupby(['DISTRICT', 'YEAR']).count()['Count']\n",
    "print(df2)"
   ]
  },
  {
   "cell_type": "markdown",
   "id": "59dd8161",
   "metadata": {},
   "source": [
    "# If we want data displayed in Horizontal way using unstack"
   ]
  },
  {
   "cell_type": "code",
   "execution_count": 9,
   "id": "c9d7df99",
   "metadata": {},
   "outputs": [
    {
     "name": "stdout",
     "output_type": "stream",
     "text": [
      "DISTRICT    A1  A15    A7    B2    B3   C11    C6   D14    D4   E13   E18  \\\n",
      "YEAR                                                                        \n",
      "2015      25.0  5.0   6.0  32.0  26.0  73.0  16.0   6.0  35.0  17.0  20.0   \n",
      "2016      57.0  2.0  16.0  68.0  44.0  98.0  28.0  32.0  64.0  42.0  26.0   \n",
      "2017      37.0  8.0  14.0  64.0  34.0  62.0  27.0  69.0  66.0  37.0  23.0   \n",
      "2018      27.0  3.0   8.0  28.0  23.0  41.0  21.0  15.0  49.0  18.0  17.0   \n",
      "\n",
      "DISTRICT    E5  N/A  \n",
      "YEAR                 \n",
      "2015      15.0  NaN  \n",
      "2016      17.0  NaN  \n",
      "2017      15.0  1.0  \n",
      "2018      11.0  1.0  \n"
     ]
    }
   ],
   "source": [
    "df1['Count'] = 1\n",
    "df2 = df1.groupby(['DISTRICT', 'YEAR']).count()['Count'].unstack(level=0)\n",
    "print(df2)"
   ]
  },
  {
   "cell_type": "markdown",
   "id": "d559a554",
   "metadata": {},
   "source": [
    "# eliminating the columm N/A using drop function"
   ]
  },
  {
   "cell_type": "code",
   "execution_count": 10,
   "id": "7f8f5bd3",
   "metadata": {},
   "outputs": [
    {
     "name": "stdout",
     "output_type": "stream",
     "text": [
      "DISTRICT    A1  A15    A7    B2    B3   C11    C6   D14    D4   E13   E18  \\\n",
      "YEAR                                                                        \n",
      "2015      25.0  5.0   6.0  32.0  26.0  73.0  16.0   6.0  35.0  17.0  20.0   \n",
      "2016      57.0  2.0  16.0  68.0  44.0  98.0  28.0  32.0  64.0  42.0  26.0   \n",
      "2017      37.0  8.0  14.0  64.0  34.0  62.0  27.0  69.0  66.0  37.0  23.0   \n",
      "2018      27.0  3.0   8.0  28.0  23.0  41.0  21.0  15.0  49.0  18.0  17.0   \n",
      "\n",
      "DISTRICT    E5  \n",
      "YEAR            \n",
      "2015      15.0  \n",
      "2016      17.0  \n",
      "2017      15.0  \n",
      "2018      11.0  \n"
     ]
    }
   ],
   "source": [
    "df2.drop(columns='N/A', inplace=True)\n",
    "print(df2)"
   ]
  },
  {
   "cell_type": "code",
   "execution_count": 45,
   "id": "6a214222",
   "metadata": {},
   "outputs": [],
   "source": [
    "rows = dataframe_to_rows(df2)\n",
    "for r_idx, row in enumerate(rows,8):\n",
    "    for c_idx, col in enumerate (row,1):\n",
    "        ws.cell(row=r_idx, column=c_idx, value=value)"
   ]
  },
  {
   "cell_type": "code",
   "execution_count": 46,
   "id": "f207030e",
   "metadata": {},
   "outputs": [],
   "source": [
    "wb.save('crime_loop.xlsx')"
   ]
  },
  {
   "cell_type": "code",
   "execution_count": null,
   "id": "822a89f4",
   "metadata": {},
   "outputs": [],
   "source": []
  },
  {
   "cell_type": "code",
   "execution_count": null,
   "id": "c90f0127",
   "metadata": {},
   "outputs": [],
   "source": []
  }
 ],
 "metadata": {
  "kernelspec": {
   "display_name": "Python 3 (ipykernel)",
   "language": "python",
   "name": "python3"
  },
  "language_info": {
   "codemirror_mode": {
    "name": "ipython",
    "version": 3
   },
   "file_extension": ".py",
   "mimetype": "text/x-python",
   "name": "python",
   "nbconvert_exporter": "python",
   "pygments_lexer": "ipython3",
   "version": "3.9.13"
  }
 },
 "nbformat": 4,
 "nbformat_minor": 5
}
