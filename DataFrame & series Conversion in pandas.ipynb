{
 "cells": [
  {
   "cell_type": "markdown",
   "id": "73047541",
   "metadata": {},
   "source": [
    "# (1) Convert a Single DataFrame Column into a Series"
   ]
  },
  {
   "cell_type": "code",
   "execution_count": 1,
   "id": "e66f8d0a",
   "metadata": {},
   "outputs": [],
   "source": [
    "import pandas as pd"
   ]
  },
  {
   "cell_type": "code",
   "execution_count": 2,
   "id": "74d8d0e7",
   "metadata": {},
   "outputs": [
    {
     "name": "stdout",
     "output_type": "stream",
     "text": [
      "   Products\n",
      "0  Computer\n",
      "1   Printer\n",
      "2    Tablet\n",
      "3     Chair\n",
      "4      Desk\n",
      "<class 'pandas.core.frame.DataFrame'>\n"
     ]
    }
   ],
   "source": [
    "data = {'Products': ['Computer', 'Printer', 'Tablet', 'Chair', 'Desk']}\n",
    "df = pd.DataFrame(data, columns = ['Products'])\n",
    "\n",
    "print(df)\n",
    "print (type(df))"
   ]
  },
  {
   "cell_type": "markdown",
   "id": "0976727e",
   "metadata": {},
   "source": [
    "# You can then use df.squeeze() to convert the DataFrame into a Series:"
   ]
  },
  {
   "cell_type": "code",
   "execution_count": 3,
   "id": "329dfa22",
   "metadata": {},
   "outputs": [],
   "source": [
    "import pandas as pd"
   ]
  },
  {
   "cell_type": "code",
   "execution_count": 4,
   "id": "0cc4cea1",
   "metadata": {},
   "outputs": [],
   "source": [
    "data = {'Products': ['Computer', 'Printer', 'Tablet', 'Chair', 'Desk']}\n",
    "df = pd.DataFrame(data, columns = ['Products'])\n"
   ]
  },
  {
   "cell_type": "code",
   "execution_count": 5,
   "id": "e47846d9",
   "metadata": {},
   "outputs": [],
   "source": [
    "my_series = df.squeeze()"
   ]
  },
  {
   "cell_type": "code",
   "execution_count": 6,
   "id": "d923279a",
   "metadata": {},
   "outputs": [
    {
     "name": "stdout",
     "output_type": "stream",
     "text": [
      "0    Computer\n",
      "1     Printer\n",
      "2      Tablet\n",
      "3       Chair\n",
      "4        Desk\n",
      "Name: Products, dtype: object\n",
      "<class 'pandas.core.series.Series'>\n"
     ]
    }
   ],
   "source": [
    "print(my_series)\n",
    "print (type(my_series))"
   ]
  },
  {
   "cell_type": "markdown",
   "id": "7d216b86",
   "metadata": {},
   "source": [
    "# (2) Convert a Specific DataFrame Column into a Series"
   ]
  },
  {
   "cell_type": "code",
   "execution_count": 7,
   "id": "ed7e05b5",
   "metadata": {},
   "outputs": [
    {
     "name": "stdout",
     "output_type": "stream",
     "text": [
      "   Products Brand  Price\n",
      "0  Computer     A    750\n",
      "1   Printer     B    200\n",
      "2    Tablet     C    300\n",
      "3     Chair     D    150\n",
      "4      Desk     E    400\n",
      "<class 'pandas.core.frame.DataFrame'>\n"
     ]
    }
   ],
   "source": [
    "import pandas as pd\n",
    "\n",
    "data = {'Products': ['Computer', 'Printer', 'Tablet', 'Chair', 'Desk'],\n",
    "        'Brand':['A', 'B', 'C', 'D', 'E'],\n",
    "        'Price':[750, 200, 300, 150, 400]\n",
    "        }\n",
    "df = pd.DataFrame(data, columns = ['Products', 'Brand', 'Price'])\n",
    "\n",
    "print(df)\n",
    "print (type(df))"
   ]
  },
  {
   "cell_type": "markdown",
   "id": "003ec32b",
   "metadata": {},
   "source": [
    "# Let’s say that your goal is to convert the ‘Price‘ column into a Series. In that case, you’ll need to add the following syntax to the code:"
   ]
  },
  {
   "cell_type": "code",
   "execution_count": 8,
   "id": "a7a3bc60",
   "metadata": {},
   "outputs": [],
   "source": [
    "import pandas as pd\n",
    "\n",
    "data = {'Products': ['Computer', 'Printer', 'Tablet', 'Chair', 'Desk'],\n",
    "        'Brand':['A', 'B', 'C', 'D', 'E'],\n",
    "        'Price':[750, 200, 300, 150, 400]\n",
    "        }\n",
    "df = pd.DataFrame(data, columns = ['Products', 'Brand', 'Price'])\n"
   ]
  },
  {
   "cell_type": "code",
   "execution_count": 9,
   "id": "3014cb4e",
   "metadata": {},
   "outputs": [],
   "source": [
    "my_series = df['Price'].squeeze()"
   ]
  },
  {
   "cell_type": "code",
   "execution_count": 10,
   "id": "fb81cf03",
   "metadata": {},
   "outputs": [
    {
     "name": "stdout",
     "output_type": "stream",
     "text": [
      "0    750\n",
      "1    200\n",
      "2    300\n",
      "3    150\n",
      "4    400\n",
      "Name: Price, dtype: int64\n",
      "<class 'pandas.core.series.Series'>\n"
     ]
    }
   ],
   "source": [
    "print(my_series)\n",
    "print (type(my_series))"
   ]
  },
  {
   "cell_type": "markdown",
   "id": "2c1b0de1",
   "metadata": {},
   "source": [
    "# (3) Convert a Single Row in the DataFrame into a Series"
   ]
  },
  {
   "cell_type": "code",
   "execution_count": 11,
   "id": "34037bf1",
   "metadata": {},
   "outputs": [
    {
     "name": "stdout",
     "output_type": "stream",
     "text": [
      "Products    Chair\n",
      "Brand           D\n",
      "Price         150\n",
      "Name: 3, dtype: object\n",
      "<class 'pandas.core.series.Series'>\n"
     ]
    }
   ],
   "source": [
    "import pandas as pd\n",
    "\n",
    "data = {'Products': ['Computer', 'Printer', 'Tablet', 'Chair', 'Desk'],\n",
    "        'Brand':['A', 'B', 'C', 'D', 'E'],\n",
    "        'Price':[750, 200, 300, 150, 400]\n",
    "        }\n",
    "df = pd.DataFrame(data, columns = ['Products', 'Brand', 'Price'])\n",
    "\n",
    "my_series = df.iloc[3].squeeze()\n",
    "\n",
    "print(my_series)\n",
    "print (type(my_series))"
   ]
  },
  {
   "cell_type": "code",
   "execution_count": null,
   "id": "868d4cf9",
   "metadata": {},
   "outputs": [],
   "source": []
  }
 ],
 "metadata": {
  "kernelspec": {
   "display_name": "Python 3 (ipykernel)",
   "language": "python",
   "name": "python3"
  },
  "language_info": {
   "codemirror_mode": {
    "name": "ipython",
    "version": 3
   },
   "file_extension": ".py",
   "mimetype": "text/x-python",
   "name": "python",
   "nbconvert_exporter": "python",
   "pygments_lexer": "ipython3",
   "version": "3.9.13"
  }
 },
 "nbformat": 4,
 "nbformat_minor": 5
}
