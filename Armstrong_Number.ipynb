{
 "cells": [
  {
   "cell_type": "code",
   "execution_count": 1,
   "id": "ced712bd",
   "metadata": {},
   "outputs": [
    {
     "name": "stdout",
     "output_type": "stream",
     "text": [
      "Please Enter the Number to Check: 9474\n",
      "9474 is Armstrong.\n"
     ]
    }
   ],
   "source": [
    "Number = int(input(\"Please Enter the Number to Check: \"))\n",
    "\n",
    "Sum = 0\n",
    "Times = 0\n",
    "\n",
    "Temp = Number\n",
    "while Temp > 0:\n",
    "    Times = Times + 1\n",
    "    Temp = Temp // 10\n",
    "\n",
    "Temp = Number\n",
    "while Temp > 0:\n",
    "    Reminder = Temp % 10\n",
    "    Sum = Sum + (Reminder ** Times)\n",
    "    Temp //= 10\n",
    "\n",
    "if Number == Sum:\n",
    "    print(\"%d is Armstrong.\" %Number)\n",
    "else:\n",
    "    print(\"%d is Not.\" %Number)"
   ]
  },
  {
   "cell_type": "code",
   "execution_count": null,
   "id": "b5c64c43",
   "metadata": {},
   "outputs": [],
   "source": []
  }
 ],
 "metadata": {
  "kernelspec": {
   "display_name": "Python 3 (ipykernel)",
   "language": "python",
   "name": "python3"
  },
  "language_info": {
   "codemirror_mode": {
    "name": "ipython",
    "version": 3
   },
   "file_extension": ".py",
   "mimetype": "text/x-python",
   "name": "python",
   "nbconvert_exporter": "python",
   "pygments_lexer": "ipython3",
   "version": "3.9.13"
  }
 },
 "nbformat": 4,
 "nbformat_minor": 5
}
