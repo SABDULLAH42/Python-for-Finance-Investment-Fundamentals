{
 "cells": [
  {
   "cell_type": "code",
   "execution_count": 7,
   "id": "16cf700e",
   "metadata": {},
   "outputs": [],
   "source": [
    "import openpyxl\n",
    "from openpyxl.chart import PieChart, Reference, Series, PieChart3D\n"
   ]
  },
  {
   "cell_type": "code",
   "execution_count": 2,
   "id": "e6eba7bc",
   "metadata": {},
   "outputs": [],
   "source": [
    "wb = openpyxl.Workbook()\n",
    "ws = wb.active"
   ]
  },
  {
   "cell_type": "code",
   "execution_count": 3,
   "id": "13626e24",
   "metadata": {},
   "outputs": [],
   "source": [
    "data = [\n",
    "        ['Flavour', 'Sold'],\n",
    "        ['Vanilla' , 1500],\n",
    "        ['Chocolate', 1700],\n",
    "        ['Strawberry', 600],\n",
    "        ['Pumpkin Spice', 950]\n",
    "]\n",
    "\n"
   ]
  },
  {
   "cell_type": "code",
   "execution_count": 5,
   "id": "a1db1321",
   "metadata": {},
   "outputs": [],
   "source": [
    "for rows in data:\n",
    "    ws.append(rows)"
   ]
  },
  {
   "cell_type": "code",
   "execution_count": 8,
   "id": "ff59fc79",
   "metadata": {},
   "outputs": [],
   "source": [
    "chart = PieChart()\n",
    "labels =  Reference(ws, min_col=1, min_row=2, max_row=5)\n",
    "data = Reference(ws, min_col=2, min_row=1, max_row=5)\n",
    "chart.add_data(data, titles_from_data=True)\n",
    "chart.set_categories(labels)\n",
    "chart.title = 'Tce Cream by Flavor'\n",
    "\n",
    "ws.add_chart(chart, 'C1')\n",
    "wb.save('Pie.xlsx')"
   ]
  },
  {
   "cell_type": "code",
   "execution_count": null,
   "id": "8eef0c4f",
   "metadata": {},
   "outputs": [],
   "source": []
  }
 ],
 "metadata": {
  "kernelspec": {
   "display_name": "Python 3 (ipykernel)",
   "language": "python",
   "name": "python3"
  },
  "language_info": {
   "codemirror_mode": {
    "name": "ipython",
    "version": 3
   },
   "file_extension": ".py",
   "mimetype": "text/x-python",
   "name": "python",
   "nbconvert_exporter": "python",
   "pygments_lexer": "ipython3",
   "version": "3.9.13"
  }
 },
 "nbformat": 4,
 "nbformat_minor": 5
}
