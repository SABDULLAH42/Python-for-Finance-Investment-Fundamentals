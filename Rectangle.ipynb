{
 "cells": [
  {
   "cell_type": "code",
   "execution_count": 1,
   "id": "3bf58dd8",
   "metadata": {},
   "outputs": [],
   "source": [
    "def area(a, b):\n",
    "    return (a * b)\n",
    " \n",
    "def perimeter(a, b):\n",
    "    return (2 * (a + b))"
   ]
  },
  {
   "cell_type": "code",
   "execution_count": 2,
   "id": "e3768278",
   "metadata": {},
   "outputs": [
    {
     "name": "stdout",
     "output_type": "stream",
     "text": [
      "Enter length: 9\n",
      "Enter breadth: 4\n"
     ]
    }
   ],
   "source": [
    "l = float(input(\"Enter length: \")) \n",
    "b = float(input(\"Enter breadth: \"))"
   ]
  },
  {
   "cell_type": "code",
   "execution_count": 3,
   "id": "832ce9c6",
   "metadata": {},
   "outputs": [
    {
     "name": "stdout",
     "output_type": "stream",
     "text": [
      "Area =  36.0\n",
      "Perimeter =  26.0\n"
     ]
    }
   ],
   "source": [
    "print (\"Area = \", area(l, b))\n",
    "print (\"Perimeter = \", perimeter(l, b))"
   ]
  },
  {
   "cell_type": "markdown",
   "id": "392ec187",
   "metadata": {},
   "source": [
    "# Another Method"
   ]
  },
  {
   "cell_type": "code",
   "execution_count": 9,
   "id": "6307bb4a",
   "metadata": {},
   "outputs": [
    {
     "name": "stdout",
     "output_type": "stream",
     "text": [
      "Area and Perimeter:\n"
     ]
    },
    {
     "data": {
      "text/plain": [
       "(20, 24)"
      ]
     },
     "execution_count": 9,
     "metadata": {},
     "output_type": "execute_result"
    }
   ],
   "source": [
    "def rectangle_info(l, w):\n",
    "    Area = (l*w)\n",
    "    Perimeter = 2 * (l+w)\n",
    "    print('Area and Perimeter:')\n",
    "    return Area, Perimeter\n",
    "    \n",
    "rectangle_info(2,10)"
   ]
  },
  {
   "cell_type": "code",
   "execution_count": 13,
   "id": "05fdc105",
   "metadata": {},
   "outputs": [
    {
     "name": "stdout",
     "output_type": "stream",
     "text": [
      "Peter\n",
      " 24\n"
     ]
    }
   ],
   "source": [
    "(name, age) = \"Peter, 24\".split(',')\n",
    "print (name)\n",
    "print(age)"
   ]
  },
  {
   "cell_type": "code",
   "execution_count": null,
   "id": "55a1bded",
   "metadata": {},
   "outputs": [],
   "source": []
  }
 ],
 "metadata": {
  "kernelspec": {
   "display_name": "Python 3 (ipykernel)",
   "language": "python",
   "name": "python3"
  },
  "language_info": {
   "codemirror_mode": {
    "name": "ipython",
    "version": 3
   },
   "file_extension": ".py",
   "mimetype": "text/x-python",
   "name": "python",
   "nbconvert_exporter": "python",
   "pygments_lexer": "ipython3",
   "version": "3.9.13"
  }
 },
 "nbformat": 4,
 "nbformat_minor": 5
}
