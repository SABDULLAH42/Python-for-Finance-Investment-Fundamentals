{
 "cells": [
  {
   "cell_type": "code",
   "execution_count": 4,
   "id": "ed191416",
   "metadata": {},
   "outputs": [],
   "source": [
    "import numpy as np\n",
    "import pandas as pd\n",
    "from pandas_datareader import data as pdr\n",
    "import yfinance as yfin\n",
    "yfin.pdr_override()\n",
    "\n"
   ]
  },
  {
   "cell_type": "code",
   "execution_count": 8,
   "id": "438481f9",
   "metadata": {},
   "outputs": [
    {
     "name": "stdout",
     "output_type": "stream",
     "text": [
      "[*********************100%%**********************]  1 of 1 completed\n",
      "[*********************100%%**********************]  1 of 1 completed\n"
     ]
    }
   ],
   "source": [
    "tickers = ['PG', '^GSPC']\n",
    "data = pd.DataFrame()\n",
    "for t in tickers:\n",
    "    data[t] = yfin.download(t,start='2012-1-1', end='2016-12-31')['Adj Close']"
   ]
  },
  {
   "cell_type": "code",
   "execution_count": 10,
   "id": "c13fff69",
   "metadata": {},
   "outputs": [],
   "source": [
    "sec_returns = np.log( data/data.shift(1) )"
   ]
  },
  {
   "cell_type": "code",
   "execution_count": 11,
   "id": "1cbb6484",
   "metadata": {},
   "outputs": [
    {
     "data": {
      "text/html": [
       "<div>\n",
       "<style scoped>\n",
       "    .dataframe tbody tr th:only-of-type {\n",
       "        vertical-align: middle;\n",
       "    }\n",
       "\n",
       "    .dataframe tbody tr th {\n",
       "        vertical-align: top;\n",
       "    }\n",
       "\n",
       "    .dataframe thead th {\n",
       "        text-align: right;\n",
       "    }\n",
       "</style>\n",
       "<table border=\"1\" class=\"dataframe\">\n",
       "  <thead>\n",
       "    <tr style=\"text-align: right;\">\n",
       "      <th></th>\n",
       "      <th>PG</th>\n",
       "      <th>^GSPC</th>\n",
       "    </tr>\n",
       "  </thead>\n",
       "  <tbody>\n",
       "    <tr>\n",
       "      <th>PG</th>\n",
       "      <td>0.020409</td>\n",
       "      <td>0.010078</td>\n",
       "    </tr>\n",
       "    <tr>\n",
       "      <th>^GSPC</th>\n",
       "      <td>0.010078</td>\n",
       "      <td>0.016362</td>\n",
       "    </tr>\n",
       "  </tbody>\n",
       "</table>\n",
       "</div>"
      ],
      "text/plain": [
       "             PG     ^GSPC\n",
       "PG     0.020409  0.010078\n",
       "^GSPC  0.010078  0.016362"
      ]
     },
     "execution_count": 11,
     "metadata": {},
     "output_type": "execute_result"
    }
   ],
   "source": [
    "cov = sec_returns.cov() * 250\n",
    "cov"
   ]
  },
  {
   "cell_type": "code",
   "execution_count": 17,
   "id": "137a5749",
   "metadata": {},
   "outputs": [
    {
     "data": {
      "text/plain": [
       "0.010078089170646625"
      ]
     },
     "execution_count": 17,
     "metadata": {},
     "output_type": "execute_result"
    }
   ],
   "source": [
    "cov_with_market = cov.iloc[0,1]\n",
    "cov_with_market"
   ]
  },
  {
   "cell_type": "code",
   "execution_count": 13,
   "id": "2f6a14f9",
   "metadata": {},
   "outputs": [
    {
     "data": {
      "text/plain": [
       "0.016361631002308474"
      ]
     },
     "execution_count": 13,
     "metadata": {},
     "output_type": "execute_result"
    }
   ],
   "source": [
    "market_var = sec_returns['^GSPC'].var() * 250\n",
    "market_var"
   ]
  },
  {
   "cell_type": "code",
   "execution_count": 18,
   "id": "df56c1f1",
   "metadata": {},
   "outputs": [
    {
     "data": {
      "text/plain": [
       "0.6159587127484235"
      ]
     },
     "execution_count": 18,
     "metadata": {},
     "output_type": "execute_result"
    }
   ],
   "source": [
    "PG_beta = cov_with_market / market_var\n",
    "PG_beta"
   ]
  },
  {
   "cell_type": "markdown",
   "id": "a6baf838",
   "metadata": {},
   "source": [
    "# Calculate the expected return of P*G (CAPM):"
   ]
  },
  {
   "cell_type": "code",
   "execution_count": 19,
   "id": "13e6692d",
   "metadata": {},
   "outputs": [
    {
     "data": {
      "text/plain": [
       "0.05579793563742118"
      ]
     },
     "execution_count": 19,
     "metadata": {},
     "output_type": "execute_result"
    }
   ],
   "source": [
    "PG_er = 0.025 + PG_beta * 0.05\n",
    "PG_er"
   ]
  },
  {
   "cell_type": "markdown",
   "id": "5965ade8",
   "metadata": {},
   "source": [
    "# Sharpe Ratio"
   ]
  },
  {
   "cell_type": "code",
   "execution_count": 21,
   "id": "389cca37",
   "metadata": {},
   "outputs": [
    {
     "data": {
      "text/plain": [
       "0.21558108363640072"
      ]
     },
     "execution_count": 21,
     "metadata": {},
     "output_type": "execute_result"
    }
   ],
   "source": [
    "Sharpe = (PG_er - 0.025) / (sec_returns['PG'].std() * 250 ** 0.5)\n",
    "Sharpe"
   ]
  },
  {
   "cell_type": "code",
   "execution_count": null,
   "id": "57400d0e",
   "metadata": {},
   "outputs": [],
   "source": []
  }
 ],
 "metadata": {
  "kernelspec": {
   "display_name": "Python 3 (ipykernel)",
   "language": "python",
   "name": "python3"
  },
  "language_info": {
   "codemirror_mode": {
    "name": "ipython",
    "version": 3
   },
   "file_extension": ".py",
   "mimetype": "text/x-python",
   "name": "python",
   "nbconvert_exporter": "python",
   "pygments_lexer": "ipython3",
   "version": "3.9.13"
  }
 },
 "nbformat": 4,
 "nbformat_minor": 5
}
