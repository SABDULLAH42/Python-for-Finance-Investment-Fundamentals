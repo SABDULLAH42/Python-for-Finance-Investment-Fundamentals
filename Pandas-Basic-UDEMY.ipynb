{
 "cells": [
  {
   "cell_type": "code",
   "execution_count": 1,
   "id": "aac62f3e",
   "metadata": {},
   "outputs": [],
   "source": [
    "import pandas as pd"
   ]
  },
  {
   "cell_type": "code",
   "execution_count": 2,
   "id": "8c028f74",
   "metadata": {},
   "outputs": [],
   "source": [
    "start_date_deposits = pd.Series({\n",
    "    '7/4/2014' : 2000,\n",
    "    '1/2/2015'  : 2000,\n",
    "    '12/8/2012' : 1000,\n",
    "    '2/20/2015' : 2000,\n",
    "    '10/28/2013' : 2000,\n",
    "    '4/19/2015' : 2000,\n",
    "    '7/4/2016'  : 2000,\n",
    "    '4/24/2014'  : 2000,\n",
    "    '9/3/2015'  : 4000,\n",
    "    '7/25/2016'  : 2000,\n",
    "    '5/1/2014'  : 2000,\n",
    "    '3/29/2013'  : 2000,\n",
    "    '10/3/2014'  : 2000,\n",
    "    '9/8/2015'  : 2500\n",
    "})"
   ]
  },
  {
   "cell_type": "code",
   "execution_count": 3,
   "id": "5c8a1e0c",
   "metadata": {},
   "outputs": [
    {
     "data": {
      "text/plain": [
       "7/4/2014      2000\n",
       "1/2/2015      2000\n",
       "12/8/2012     1000\n",
       "2/20/2015     2000\n",
       "10/28/2013    2000\n",
       "4/19/2015     2000\n",
       "7/4/2016      2000\n",
       "4/24/2014     2000\n",
       "9/3/2015      4000\n",
       "7/25/2016     2000\n",
       "5/1/2014      2000\n",
       "3/29/2013     2000\n",
       "10/3/2014     2000\n",
       "9/8/2015      2500\n",
       "dtype: int64"
      ]
     },
     "execution_count": 3,
     "metadata": {},
     "output_type": "execute_result"
    }
   ],
   "source": [
    "start_date_deposits"
   ]
  },
  {
   "cell_type": "code",
   "execution_count": 4,
   "id": "1ce37897",
   "metadata": {},
   "outputs": [
    {
     "data": {
      "text/plain": [
       "29500"
      ]
     },
     "execution_count": 4,
     "metadata": {},
     "output_type": "execute_result"
    }
   ],
   "source": [
    "start_date_deposits.sum()"
   ]
  },
  {
   "cell_type": "code",
   "execution_count": 5,
   "id": "d72cd7bb",
   "metadata": {},
   "outputs": [
    {
     "data": {
      "text/plain": [
       "1000"
      ]
     },
     "execution_count": 5,
     "metadata": {},
     "output_type": "execute_result"
    }
   ],
   "source": [
    "start_date_deposits.min()"
   ]
  },
  {
   "cell_type": "code",
   "execution_count": 6,
   "id": "357da7ea",
   "metadata": {},
   "outputs": [
    {
     "data": {
      "text/plain": [
       "4000"
      ]
     },
     "execution_count": 6,
     "metadata": {},
     "output_type": "execute_result"
    }
   ],
   "source": [
    "start_date_deposits.max()"
   ]
  },
  {
   "cell_type": "code",
   "execution_count": 8,
   "id": "e6f86cf7",
   "metadata": {},
   "outputs": [
    {
     "data": {
      "text/plain": [
       "'9/3/2015'"
      ]
     },
     "execution_count": 8,
     "metadata": {},
     "output_type": "execute_result"
    }
   ],
   "source": [
    "start_date_deposits.idxmax()"
   ]
  },
  {
   "cell_type": "code",
   "execution_count": 9,
   "id": "6493820f",
   "metadata": {},
   "outputs": [
    {
     "data": {
      "text/plain": [
       "'12/8/2012'"
      ]
     },
     "execution_count": 9,
     "metadata": {},
     "output_type": "execute_result"
    }
   ],
   "source": [
    "start_date_deposits.idxmin()"
   ]
  },
  {
   "cell_type": "code",
   "execution_count": 10,
   "id": "5faecba5",
   "metadata": {},
   "outputs": [
    {
     "data": {
      "text/plain": [
       "7/4/2014      2000\n",
       "1/2/2015      2000\n",
       "12/8/2012     1000\n",
       "2/20/2015     2000\n",
       "10/28/2013    2000\n",
       "dtype: int64"
      ]
     },
     "execution_count": 10,
     "metadata": {},
     "output_type": "execute_result"
    }
   ],
   "source": [
    "start_date_deposits.head()"
   ]
  },
  {
   "cell_type": "code",
   "execution_count": 11,
   "id": "605ef8a7",
   "metadata": {},
   "outputs": [
    {
     "data": {
      "text/plain": [
       "7/25/2016    2000\n",
       "5/1/2014     2000\n",
       "3/29/2013    2000\n",
       "10/3/2014    2000\n",
       "9/8/2015     2500\n",
       "dtype: int64"
      ]
     },
     "execution_count": 11,
     "metadata": {},
     "output_type": "execute_result"
    }
   ],
   "source": [
    "start_date_deposits.tail()"
   ]
  },
  {
   "cell_type": "code",
   "execution_count": null,
   "id": "8daeb198",
   "metadata": {},
   "outputs": [],
   "source": []
  }
 ],
 "metadata": {
  "kernelspec": {
   "display_name": "Python 3 (ipykernel)",
   "language": "python",
   "name": "python3"
  },
  "language_info": {
   "codemirror_mode": {
    "name": "ipython",
    "version": 3
   },
   "file_extension": ".py",
   "mimetype": "text/x-python",
   "name": "python",
   "nbconvert_exporter": "python",
   "pygments_lexer": "ipython3",
   "version": "3.9.13"
  }
 },
 "nbformat": 4,
 "nbformat_minor": 5
}
