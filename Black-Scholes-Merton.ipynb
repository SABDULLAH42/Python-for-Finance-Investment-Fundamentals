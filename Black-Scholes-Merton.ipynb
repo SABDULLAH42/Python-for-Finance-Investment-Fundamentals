{
 "cells": [
  {
   "cell_type": "code",
   "execution_count": 1,
   "id": "4bcf104f",
   "metadata": {},
   "outputs": [],
   "source": [
    "import numpy as np\n",
    "import pandas as pd\n",
    "from pandas_datareader import data as pdr\n",
    "from scipy.stats import norm\n",
    "import yfinance as yfin"
   ]
  },
  {
   "cell_type": "code",
   "execution_count": 2,
   "id": "f1424c61",
   "metadata": {},
   "outputs": [],
   "source": [
    "def d1(S, K, r , stdev, T):\n",
    "    return (np.log(S / K) + (r + stdev **2 / 2) * T) / (stdev * np.sqrt(T))"
   ]
  },
  {
   "cell_type": "code",
   "execution_count": 3,
   "id": "f113c5ad",
   "metadata": {},
   "outputs": [],
   "source": [
    "def d2(S, K, r , stdev, T):\n",
    "    return (np.log(S / K) + (r - stdev **2 / 2) * T) / (stdev * np.sqrt(T))"
   ]
  },
  {
   "cell_type": "code",
   "execution_count": 4,
   "id": "10439654",
   "metadata": {},
   "outputs": [
    {
     "data": {
      "text/plain": [
       "0.5"
      ]
     },
     "execution_count": 4,
     "metadata": {},
     "output_type": "execute_result"
    }
   ],
   "source": [
    "norm.cdf(0)"
   ]
  },
  {
   "cell_type": "code",
   "execution_count": 5,
   "id": "6c54c0a1",
   "metadata": {},
   "outputs": [
    {
     "data": {
      "text/plain": [
       "0.5987063256829237"
      ]
     },
     "execution_count": 5,
     "metadata": {},
     "output_type": "execute_result"
    }
   ],
   "source": [
    "norm.cdf(0.25)"
   ]
  },
  {
   "cell_type": "code",
   "execution_count": 6,
   "id": "29ccde67",
   "metadata": {},
   "outputs": [
    {
     "data": {
      "text/plain": [
       "0.7733726476231317"
      ]
     },
     "execution_count": 6,
     "metadata": {},
     "output_type": "execute_result"
    }
   ],
   "source": [
    "norm.cdf(0.75)"
   ]
  },
  {
   "cell_type": "code",
   "execution_count": 8,
   "id": "c7495bcb",
   "metadata": {},
   "outputs": [
    {
     "data": {
      "text/plain": [
       "1.0"
      ]
     },
     "execution_count": 8,
     "metadata": {},
     "output_type": "execute_result"
    }
   ],
   "source": [
    "norm.cdf(9)"
   ]
  },
  {
   "cell_type": "code",
   "execution_count": 9,
   "id": "5203ea14",
   "metadata": {},
   "outputs": [],
   "source": [
    "def BSM(S, K, r , stdev, T):\n",
    "    return ( S * norm.cdf(d1(S, K, r , stdev, T))) - (K * np.exp(-r * T) * norm.cdf(d2(S, K, r , stdev, T)))"
   ]
  },
  {
   "cell_type": "code",
   "execution_count": 19,
   "id": "2f824414",
   "metadata": {},
   "outputs": [
    {
     "name": "stdout",
     "output_type": "stream",
     "text": [
      "[*********************100%%**********************]  1 of 1 completed\n"
     ]
    }
   ],
   "source": [
    "ticker = 'PG'\n",
    "data = pd.DataFrame()\n",
    "data[ticker] = yfin.download(ticker, start='2007-1-1', end='2017-3-21')['Adj Close']"
   ]
  },
  {
   "cell_type": "code",
   "execution_count": 18,
   "id": "e50482cb",
   "metadata": {},
   "outputs": [
    {
     "data": {
      "text/html": [
       "<div>\n",
       "<style scoped>\n",
       "    .dataframe tbody tr th:only-of-type {\n",
       "        vertical-align: middle;\n",
       "    }\n",
       "\n",
       "    .dataframe tbody tr th {\n",
       "        vertical-align: top;\n",
       "    }\n",
       "\n",
       "    .dataframe thead th {\n",
       "        text-align: right;\n",
       "    }\n",
       "</style>\n",
       "<table border=\"1\" class=\"dataframe\">\n",
       "  <thead>\n",
       "    <tr style=\"text-align: right;\">\n",
       "      <th></th>\n",
       "      <th>PG</th>\n",
       "    </tr>\n",
       "    <tr>\n",
       "      <th>Date</th>\n",
       "      <th></th>\n",
       "    </tr>\n",
       "  </thead>\n",
       "  <tbody>\n",
       "    <tr>\n",
       "      <th>2017-03-14</th>\n",
       "      <td>75.697647</td>\n",
       "    </tr>\n",
       "    <tr>\n",
       "      <th>2017-03-15</th>\n",
       "      <td>76.030380</td>\n",
       "    </tr>\n",
       "    <tr>\n",
       "      <th>2017-03-16</th>\n",
       "      <td>76.063644</td>\n",
       "    </tr>\n",
       "    <tr>\n",
       "      <th>2017-03-17</th>\n",
       "      <td>75.697647</td>\n",
       "    </tr>\n",
       "    <tr>\n",
       "      <th>2017-03-20</th>\n",
       "      <td>75.880638</td>\n",
       "    </tr>\n",
       "  </tbody>\n",
       "</table>\n",
       "</div>"
      ],
      "text/plain": [
       "                   PG\n",
       "Date                 \n",
       "2017-03-14  75.697647\n",
       "2017-03-15  76.030380\n",
       "2017-03-16  76.063644\n",
       "2017-03-17  75.697647\n",
       "2017-03-20  75.880638"
      ]
     },
     "execution_count": 18,
     "metadata": {},
     "output_type": "execute_result"
    }
   ],
   "source": [
    "data.tail()"
   ]
  },
  {
   "cell_type": "code",
   "execution_count": 12,
   "id": "205c4f2e",
   "metadata": {},
   "outputs": [
    {
     "data": {
      "text/plain": [
       "PG    75.880638\n",
       "Name: 2017-03-20 00:00:00, dtype: float64"
      ]
     },
     "execution_count": 12,
     "metadata": {},
     "output_type": "execute_result"
    }
   ],
   "source": [
    "S = data.iloc[-1]\n",
    "S"
   ]
  },
  {
   "cell_type": "code",
   "execution_count": 13,
   "id": "43c2dae4",
   "metadata": {},
   "outputs": [],
   "source": [
    "log_returns = np.log(1 + data.pct_change())"
   ]
  },
  {
   "cell_type": "code",
   "execution_count": 14,
   "id": "f0e87f76",
   "metadata": {},
   "outputs": [
    {
     "data": {
      "text/plain": [
       "PG    0.176584\n",
       "dtype: float64"
      ]
     },
     "execution_count": 14,
     "metadata": {},
     "output_type": "execute_result"
    }
   ],
   "source": [
    "stdev = log_returns.std() * 250 ** 0.5\n",
    "stdev"
   ]
  },
  {
   "cell_type": "code",
   "execution_count": 15,
   "id": "20e6451c",
   "metadata": {},
   "outputs": [],
   "source": [
    "r = 0.025\n",
    "K = 110.0\n",
    "T = 1"
   ]
  },
  {
   "cell_type": "code",
   "execution_count": 16,
   "id": "53ae4c82",
   "metadata": {},
   "outputs": [
    {
     "data": {
      "text/plain": [
       "PG   -1.872916\n",
       "dtype: float64"
      ]
     },
     "execution_count": 16,
     "metadata": {},
     "output_type": "execute_result"
    }
   ],
   "source": [
    "d1(S, K, r , stdev, T)"
   ]
  },
  {
   "cell_type": "code",
   "execution_count": 17,
   "id": "ef9261a8",
   "metadata": {},
   "outputs": [
    {
     "data": {
      "text/plain": [
       "PG   -2.0495\n",
       "dtype: float64"
      ]
     },
     "execution_count": 17,
     "metadata": {},
     "output_type": "execute_result"
    }
   ],
   "source": [
    "d2(S, K, r , stdev, T)"
   ]
  },
  {
   "cell_type": "code",
   "execution_count": 21,
   "id": "ca8698f8",
   "metadata": {},
   "outputs": [
    {
     "data": {
      "text/plain": [
       "PG    0.149547\n",
       "Name: 2017-03-20 00:00:00, dtype: float64"
      ]
     },
     "execution_count": 21,
     "metadata": {},
     "output_type": "execute_result"
    }
   ],
   "source": [
    "BSM(S, K, r , stdev, T)"
   ]
  },
  {
   "cell_type": "code",
   "execution_count": null,
   "id": "4f0544ed",
   "metadata": {},
   "outputs": [],
   "source": []
  }
 ],
 "metadata": {
  "kernelspec": {
   "display_name": "Python 3 (ipykernel)",
   "language": "python",
   "name": "python3"
  },
  "language_info": {
   "codemirror_mode": {
    "name": "ipython",
    "version": 3
   },
   "file_extension": ".py",
   "mimetype": "text/x-python",
   "name": "python",
   "nbconvert_exporter": "python",
   "pygments_lexer": "ipython3",
   "version": "3.9.13"
  }
 },
 "nbformat": 4,
 "nbformat_minor": 5
}
